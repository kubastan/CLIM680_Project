{
 "cells": [
  {
   "cell_type": "code",
   "execution_count": null,
   "id": "a6cb36e3",
   "metadata": {},
   "outputs": [],
   "source": [
    "def calcAnom(ds,anom_name):\n",
    "    # Save the original dates \n",
    "    time=ds.time\n",
    "\n",
    "    # Get the time dimensions; ntimes=# of samples; nyrs=# of calendar years; nlead=# of foreecast leads\n",
    "    ntimes=len(time)\n",
    "    index=ds.time['time.year']\n",
    "    yStrt=index[0]\n",
    "    yLast=index[-1]\n",
    "    nyrs=int(yLast-yStrt)\n",
    "    nlead=int(len(index)/nyrs)\n",
    "\n",
    "    # Compute climatology for each forecast lead \n",
    "    climo=[]\n",
    "    for i in range(nlead):\n",
    "        da=ds[i:ntimes:nlead,:,:].mean(dim='time')\n",
    "        climo.append(da.to_dataset(name='clim'))\n",
    "    ds_clim=xr.combine_nested(climo,concat_dim='time')\n",
    "\n",
    "    # Change time coordinate from calendar dates to integers [0:ntimes]\n",
    "    days=[]\n",
    "    for i in range(nyrs):\n",
    "        days.append(np.arange(nlead))\n",
    "    days=np.reshape(days,nyrs*nlead)\n",
    "\n",
    "    ds['time']=days\n",
    "\n",
    "    # Compute anomalies \n",
    "    anoms=ds.groupby(ds.time)-ds_clim\n",
    "\n",
    "    # Rename anomaly \n",
    "    anom=anoms['clim'].rename(anom_name)\n",
    "\n",
    "    # Remap time coordinate to original calendar dates\n",
    "    anom['time']=time\n",
    "\n",
    "    return anom"
   ]
  }
 ],
 "metadata": {
  "kernelspec": {
   "display_name": "CLIM",
   "language": "python",
   "name": "clim"
  },
  "language_info": {
   "codemirror_mode": {
    "name": "ipython",
    "version": 3
   },
   "file_extension": ".py",
   "mimetype": "text/x-python",
   "name": "python",
   "nbconvert_exporter": "python",
   "pygments_lexer": "ipython3",
   "version": "3.9.9"
  }
 },
 "nbformat": 4,
 "nbformat_minor": 5
}
